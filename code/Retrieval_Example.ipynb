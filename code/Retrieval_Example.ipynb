{
 "cells": [
  {
   "cell_type": "markdown",
   "metadata": {},
   "source": [
    "This script is for retrieving images based on sketch query \n"
   ]
  },
  {
   "cell_type": "code",
   "execution_count": null,
   "metadata": {
    "collapsed": true
   },
   "outputs": [],
   "source": [
    "import numpy as np\n",
    "from pylab import *\n",
    "%matplotlib inline\n",
    "import os\n",
    "import sys"
   ]
  },
  {
   "cell_type": "markdown",
   "metadata": {},
   "source": [
    "## caffe"
   ]
  },
  {
   "cell_type": "markdown",
   "metadata": {},
   "source": [
    "First, we need to import caffe. You'll need to have caffe installed, as well as python interface for caffe. "
   ]
  },
  {
   "cell_type": "code",
   "execution_count": null,
   "metadata": {
    "collapsed": true
   },
   "outputs": [],
   "source": [
    "#TODO: specify your caffe root folder here\n",
    "caffe_root = \"X:\\caffe_siggraph/caffe-windows-master\"\n",
    "sys.path.insert(0, caffe_root+'/python')\n",
    "import caffe"
   ]
  },
  {
   "cell_type": "markdown",
   "metadata": {},
   "source": [
    "Now we can load up the network. You can change the path to your own network here. Make sure to use the matching deploy prototxt files and change the target layer to your layer name."
   ]
  },
  {
   "cell_type": "code",
   "execution_count": null,
   "metadata": {
    "collapsed": true
   },
   "outputs": [],
   "source": [
    "#TODO: change to your own network and deploying file\n",
    "PRETRAINED_FILE = '../models/triplet_googlenet/triplet_googlenet_finegrain_final.caffemodel' \n",
    "sketch_model = '../models/triplet_googlenet/googlenet_sketchdeploy.prototxt'\n",
    "image_model = '../models/triplet_googlenet/googlenet_imagedeploy.prototxt'"
   ]
  },
  {
   "cell_type": "code",
   "execution_count": null,
   "metadata": {
    "collapsed": true
   },
   "outputs": [],
   "source": [
    "caffe.set_mode_gpu()\n",
    "#caffe.set_mode_cpu()\n",
    "sketch_net = caffe.Net(sketch_model, PRETRAINED_FILE, caffe.TEST)\n",
    "img_net = caffe.Net(image_model, PRETRAINED_FILE, caffe.TEST)\n",
    "sketch_net.blobs.keys()"
   ]
  },
  {
   "cell_type": "code",
   "execution_count": null,
   "metadata": {
    "collapsed": true
   },
   "outputs": [],
   "source": [
    "#TODO: set output layer name. You can use sketch_net.blobs.keys() to list all layer\n",
    "output_layer_sketch = 'pool5/7x7_s1_s'\n",
    "output_layer_image = 'pool5/7x7_s1_p'"
   ]
  },
  {
   "cell_type": "code",
   "execution_count": null,
   "metadata": {
    "collapsed": true
   },
   "outputs": [],
   "source": [
    "#set the transformer\n",
    "transformer = caffe.io.Transformer({'data': np.shape(sketch_net.blobs['data'].data)})\n",
    "transformer.set_mean('data', np.array([104, 117, 123]))\n",
    "transformer.set_transpose('data',(2,0,1))\n",
    "transformer.set_channel_swap('data', (2,1,0))\n",
    "transformer.set_raw_scale('data', 255.0)"
   ]
  },
  {
   "cell_type": "markdown",
   "metadata": {},
   "source": [
    "# Retrieving images"
   ]
  },
  {
   "cell_type": "markdown",
   "metadata": {},
   "source": [
    "The following script show how to use our network to do the retrieval. The easiest way to use the script is to simply put every images you want to retrieve in one folder and modify 'photo_paths' to point to your folder. Then change 'sketch_path' to point to the sketch you want to use as a query."
   ]
  },
  {
   "cell_type": "markdown",
   "metadata": {},
   "source": [
    "## Extracting image feats"
   ]
  },
  {
   "cell_type": "code",
   "execution_count": null,
   "metadata": {
    "collapsed": true
   },
   "outputs": [],
   "source": [
    "#TODO: specify photo folder for the retrieval\n",
    "photo_paths = 'C:\\Users\\Patsorn\\Documents/notebook_backup/SBIR/retrieval/'"
   ]
  },
  {
   "cell_type": "code",
   "execution_count": null,
   "metadata": {},
   "outputs": [],
   "source": [
    "#load up images\n",
    "img_list = os.listdir(photo_paths)\n",
    "N = np.shape(img_list)[0]\n",
    "print 'Retrieving from', N,'photos'"
   ]
  },
  {
   "cell_type": "code",
   "execution_count": null,
   "metadata": {},
   "outputs": [],
   "source": [
    "#extract feature for all images\n",
    "feats = []\n",
    "for i,path in enumerate(img_list):\n",
    "    imgname = path.split('/')[-1]\n",
    "    imgname = imgname.split('.jpg')[0]\n",
    "    imgcat = path.split('/')[0]\n",
    "    print '\\r',str(i+1)+'/'+str(N)+ ' '+'Extracting ' +path+'...',\n",
    "    full_path = photo_paths + path\n",
    "    img = (transformer.preprocess('data', caffe.io.load_image(full_path.rstrip())))\n",
    "    img_in = np.reshape([img],np.shape(sketch_net.blobs['data'].data))\n",
    "    out_img = img_net.forward(data=img_in)\n",
    "    out_img = np.copy(out_img[output_layer_image]) \n",
    "    feats.append(out_img)\n",
    "    print 'done',\n",
    "np.shape(feats)\n",
    "feats = np.resize(feats,[np.shape(feats)[0],np.shape(feats)[2]])  #quick fixed for size"
   ]
  },
  {
   "cell_type": "code",
   "execution_count": null,
   "metadata": {
    "collapsed": true
   },
   "outputs": [],
   "source": [
    "#build nn pool\n",
    "from sklearn.neighbors import NearestNeighbors,LSHForest\n",
    "nbrs  = NearestNeighbors(n_neighbors=np.size(feats,0), algorithm='brute',metric='cosine').fit(feats)"
   ]
  },
  {
   "cell_type": "markdown",
   "metadata": {},
   "source": [
    "# Show top 5 retrieval results"
   ]
  },
  {
   "cell_type": "code",
   "execution_count": null,
   "metadata": {
    "scrolled": false
   },
   "outputs": [],
   "source": [
    "\n",
    "#Load up sketch query \n",
    "sketch_path = \"X:\\data_for_research\\sketch_dataset\\png/giraffe/7366.png\"\n",
    "sketch_in = (transformer.preprocess('data', caffe.io.load_image(sketch_path)))\n",
    "sketch_in = np.reshape([sketch_in],np.shape(sketch_net.blobs['data'].data))\n",
    "query = sketch_net.forward(data=sketch_in)\n",
    "query=np.copy(query[output_layer_sketch])\n",
    "\n",
    "#get nn\n",
    "distances, indices = nbrs.kneighbors(np.reshape(query,[np.shape(query)[1]]))\n",
    "\n",
    "#show query\n",
    "f = plt.figure(0)\n",
    "plt.imshow(plt.imread(sketch_path))\n",
    "plt.axis('off')\n",
    "\n",
    "#show results\n",
    "for i in range(1,5,1):\n",
    "    f = plt.figure(i)\n",
    "    img = plt.imread(photo_paths+img_list[indices[0][i-1]])\n",
    "    plt.imshow(img)\n",
    "    plt.axis('off')\n",
    "    plt.show(block=False)"
   ]
  }
 ],
 "metadata": {
  "kernelspec": {
   "display_name": "Python 3",
   "language": "python",
   "name": "python3"
  },
  "language_info": {
   "codemirror_mode": {
    "name": "ipython",
    "version": 3
   },
   "file_extension": ".py",
   "mimetype": "text/x-python",
   "name": "python",
   "nbconvert_exporter": "python",
   "pygments_lexer": "ipython3",
   "version": "3.5.3"
  }
 },
 "nbformat": 4,
 "nbformat_minor": 1
}
