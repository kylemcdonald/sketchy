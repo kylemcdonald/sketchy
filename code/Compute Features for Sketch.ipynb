{
 "cells": [
  {
   "cell_type": "code",
   "execution_count": null,
   "metadata": {
    "collapsed": true
   },
   "outputs": [],
   "source": [
    "sketch_path = '/home/kyle/256x256/sketch/tx_000000001010/airplane/n02691156_10151-3.png'\n",
    "features_file = 'features'"
   ]
  },
  {
   "cell_type": "code",
   "execution_count": null,
   "metadata": {
    "collapsed": true
   },
   "outputs": [],
   "source": [
    "import caffe\n",
    "import numpy as np\n",
    "from sklearn.neighbors import NearestNeighbors"
   ]
  },
  {
   "cell_type": "code",
   "execution_count": null,
   "metadata": {
    "collapsed": true
   },
   "outputs": [],
   "source": [
    "model_root = '../models/triplet_googlenet/Triplet_googlenet_'\n",
    "pretrained_model = model_root + 'final.caffemodel' \n",
    "sketch_proto = model_root + 'sketchdeploy.prototxt'"
   ]
  },
  {
   "cell_type": "code",
   "execution_count": null,
   "metadata": {
    "collapsed": true
   },
   "outputs": [],
   "source": [
    "caffe.set_mode_gpu()\n",
    "sketch_net = caffe.Net(sketch_proto, pretrained_model, caffe.TEST)"
   ]
  },
  {
   "cell_type": "code",
   "execution_count": null,
   "metadata": {
    "collapsed": true
   },
   "outputs": [],
   "source": [
    "output_layer_sketch = 'pool5/7x7_s1_s'"
   ]
  },
  {
   "cell_type": "code",
   "execution_count": null,
   "metadata": {
    "collapsed": true
   },
   "outputs": [],
   "source": [
    "# seems a little strange to have a transform on the sketch images?\n",
    "transformer = caffe.io.Transformer({'data': np.shape(sketch_net.blobs['data'].data)})\n",
    "transformer.set_mean('data', np.array([104, 117, 123]))\n",
    "transformer.set_transpose('data',(2,0,1))\n",
    "transformer.set_channel_swap('data', (2,1,0))\n",
    "transformer.set_raw_scale('data', 255.0)"
   ]
  },
  {
   "cell_type": "code",
   "execution_count": null,
   "metadata": {
    "collapsed": true
   },
   "outputs": [],
   "source": [
    "features = np.load(features_file + '.npy')\n",
    "filenames = open(features_file + '.txt').read().splitlines()\n",
    "len(features), len(filenames)"
   ]
  },
  {
   "cell_type": "code",
   "execution_count": null,
   "metadata": {
    "collapsed": true
   },
   "outputs": [],
   "source": [
    "%time nbrs = NearestNeighbors(n_neighbors=10, algorithm='brute', metric='cosine').fit(features)"
   ]
  },
  {
   "cell_type": "code",
   "execution_count": null,
   "metadata": {
    "collapsed": true
   },
   "outputs": [],
   "source": [
    "img = caffe.io.load_image(sketch_path)\n",
    "print(img.min(), img.mean(), img.max())"
   ]
  },
  {
   "cell_type": "code",
   "execution_count": null,
   "metadata": {
    "collapsed": true
   },
   "outputs": [],
   "source": [
    "sketch = [transformer.preprocess('data', img)]\n",
    "sketch = np.asarray(sketch)\n",
    "results = sketch_net.forward(data=sketch)[output_layer_sketch]\n",
    "results = results.reshape(-1)"
   ]
  },
  {
   "cell_type": "code",
   "execution_count": null,
   "metadata": {
    "collapsed": true,
    "scrolled": false
   },
   "outputs": [],
   "source": [
    "%time knns = nbrs.kneighbors(results.reshape(1, -1))[1].reshape(-1)\n",
    "show_image(sketch_path)\n",
    "for knn in knns:\n",
    "    show_image(filenames[knn])"
   ]
  },
  {
   "cell_type": "code",
   "execution_count": null,
   "metadata": {
    "collapsed": true
   },
   "outputs": [],
   "source": [
    "from io import BytesIO\n",
    "import numpy as np\n",
    "import PIL.Image\n",
    "import IPython.display\n",
    "import shutil\n",
    "\n",
    "def show_array(a, fmt='png', filename=None):\n",
    "    a = np.uint8(np.clip(a, 0, 255))\n",
    "    image_data = BytesIO()\n",
    "    PIL.Image.fromarray(a).save(image_data, fmt)\n",
    "    if filename is None:\n",
    "        IPython.display.display(IPython.display.Image(data=image_data.getvalue()))\n",
    "    else:\n",
    "        with open(filename, 'w') as f:\n",
    "            image_data.seek(0)\n",
    "            shutil.copyfileobj(image_data, f)\n",
    "            \n",
    "from scipy.misc import imread\n",
    "\n",
    "def show_image(path):\n",
    "    show_array(imread(path))"
   ]
  },
  {
   "cell_type": "code",
   "execution_count": null,
   "metadata": {
    "collapsed": true
   },
   "outputs": [],
   "source": [
    "show_image('/home/kyle/256x256/photo/tx_000100000000/airplane/n02691156_2289.jpg')"
   ]
  },
  {
   "cell_type": "code",
   "execution_count": null,
   "metadata": {
    "collapsed": true
   },
   "outputs": [],
   "source": []
  }
 ],
 "metadata": {
  "kernelspec": {
   "display_name": "Python 3",
   "language": "python",
   "name": "python3"
  },
  "language_info": {
   "codemirror_mode": {
    "name": "ipython",
    "version": 3
   },
   "file_extension": ".py",
   "mimetype": "text/x-python",
   "name": "python",
   "nbconvert_exporter": "python",
   "pygments_lexer": "ipython3",
   "version": "3.5.3"
  }
 },
 "nbformat": 4,
 "nbformat_minor": 1
}
