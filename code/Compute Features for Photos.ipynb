{
 "cells": [
  {
   "cell_type": "code",
   "execution_count": 1,
   "metadata": {
    "collapsed": true
   },
   "outputs": [],
   "source": [
    "photo_paths = '/home/kyle/datasets/sketchy-photos/images/'"
   ]
  },
  {
   "cell_type": "code",
   "execution_count": 2,
   "metadata": {
    "collapsed": true
   },
   "outputs": [],
   "source": [
    "import caffe\n",
    "import numpy as np"
   ]
  },
  {
   "cell_type": "code",
   "execution_count": 3,
   "metadata": {
    "collapsed": true
   },
   "outputs": [],
   "source": [
    "model_root = '../models/triplet_googlenet/Triplet_googlenet_'\n",
    "pretrained_model = model_root + 'final.caffemodel' \n",
    "image_proto = model_root + 'imagedeploy.prototxt'"
   ]
  },
  {
   "cell_type": "code",
   "execution_count": 4,
   "metadata": {
    "collapsed": true
   },
   "outputs": [],
   "source": [
    "caffe.set_mode_gpu()\n",
    "img_net = caffe.Net(image_proto, pretrained_model, caffe.TEST)"
   ]
  },
  {
   "cell_type": "code",
   "execution_count": 5,
   "metadata": {
    "collapsed": true
   },
   "outputs": [],
   "source": [
    "output_layer_image = 'pool5/7x7_s1_p'"
   ]
  },
  {
   "cell_type": "code",
   "execution_count": 6,
   "metadata": {
    "collapsed": true
   },
   "outputs": [],
   "source": [
    "transformer = caffe.io.Transformer({'data': np.shape(img_net.blobs['data'].data)})\n",
    "transformer.set_mean('data', np.array([104, 117, 123]))\n",
    "transformer.set_transpose('data',(2,0,1))\n",
    "transformer.set_channel_swap('data', (2,1,0))\n",
    "transformer.set_raw_scale('data', 255.0)"
   ]
  },
  {
   "cell_type": "code",
   "execution_count": 7,
   "metadata": {
    "collapsed": true
   },
   "outputs": [],
   "source": [
    "import os\n",
    "import fnmatch\n",
    "\n",
    "# extensions can be a single tring like '.png' or '.jpg'\n",
    "# or a list of extensions. they should all be lowercase\n",
    "# but the . is important.\n",
    "def list_all_files(directory, extensions=None):\n",
    "    for root, dirnames, filenames in os.walk(directory):\n",
    "        for filename in filenames:\n",
    "            base, ext = os.path.splitext(filename)\n",
    "            joined = os.path.join(root, filename)\n",
    "            if extensions is None or ( len(ext) and ext.lower() in extensions ):\n",
    "                yield joined\n",
    "                \n",
    "def chunks(l, n):\n",
    "    for i in range(0, len(l), n):\n",
    "        yield l[i:i + n]"
   ]
  },
  {
   "cell_type": "code",
   "execution_count": 15,
   "metadata": {},
   "outputs": [
    {
     "data": {
      "text/plain": [
       "12500"
      ]
     },
     "execution_count": 15,
     "metadata": {},
     "output_type": "execute_result"
    }
   ],
   "source": [
    "from os.path import basename\n",
    "paths = list(list_all_files(photo_paths, '.jpg'))\n",
    "np.savetxt('filenames.txt', [basename(path) for path in paths], fmt='%s')\n",
    "len(paths)"
   ]
  },
  {
   "cell_type": "code",
   "execution_count": 9,
   "metadata": {
    "collapsed": true
   },
   "outputs": [],
   "source": [
    "from tqdm import tqdm\n",
    "\n",
    "def get_feats(paths, batch_size=1):\n",
    "    feats = []\n",
    "    for chunk in tqdm(chunks(paths, batch_size)):\n",
    "        imgs = [transformer.preprocess('data', caffe.io.load_image(path)) for path in chunk]\n",
    "        imgs = np.asarray(imgs)\n",
    "        if img_net.blobs['data'].data.shape != imgs.shape:\n",
    "            img_net.blobs['data'].reshape(*imgs.shape)\n",
    "        results = img_net.forward(data=imgs)[output_layer_image]\n",
    "        results = results.reshape(results.shape[:2])\n",
    "        feats.extend(np.copy(results))\n",
    "    return np.asarray(feats)"
   ]
  },
  {
   "cell_type": "code",
   "execution_count": 10,
   "metadata": {},
   "outputs": [
    {
     "name": "stderr",
     "output_type": "stream",
     "text": [
      "98it [05:39,  3.22s/it]\n"
     ]
    },
    {
     "data": {
      "text/plain": [
       "(12500, 1024)"
      ]
     },
     "execution_count": 10,
     "metadata": {},
     "output_type": "execute_result"
    }
   ],
   "source": [
    "feats = get_feats(paths, 128)\n",
    "np.save('features.npy', feats)\n",
    "feats.shape"
   ]
  },
  {
   "cell_type": "code",
   "execution_count": null,
   "metadata": {
    "collapsed": true
   },
   "outputs": [],
   "source": []
  }
 ],
 "metadata": {
  "kernelspec": {
   "display_name": "Python 3",
   "language": "python",
   "name": "python3"
  },
  "language_info": {
   "codemirror_mode": {
    "name": "ipython",
    "version": 3
   },
   "file_extension": ".py",
   "mimetype": "text/x-python",
   "name": "python",
   "nbconvert_exporter": "python",
   "pygments_lexer": "ipython3",
   "version": "3.5.3"
  }
 },
 "nbformat": 4,
 "nbformat_minor": 1
}
